{
 "cells": [
  {
   "cell_type": "code",
   "execution_count": 6,
   "id": "2c68b524",
   "metadata": {},
   "outputs": [],
   "source": [
    "\n",
    "import pandas as pd\n",
    "\n",
    "df = pd.read_csv(\"C:/Users/Zainab/Downloads/processed_swimming_data.csv\")\n",
    "\n"
   ]
  },
  {
   "cell_type": "code",
   "execution_count": 7,
   "id": "6d1c7d38",
   "metadata": {},
   "outputs": [],
   "source": [
    "import numpy as np\n",
    "import pandas as pd\n",
    "from sklearn.model_selection import train_test_split\n",
    "from sklearn.linear_model import LinearRegression\n",
    "from sklearn.metrics import mean_squared_error, r2_score\n",
    "from sklearn.pipeline import Pipeline\n",
    "from sklearn.compose import ColumnTransformer\n",
    "from sklearn.preprocessing import OneHotEncoder, StandardScaler\n"
   ]
  },
  {
   "cell_type": "code",
   "execution_count": 8,
   "id": "50815077",
   "metadata": {},
   "outputs": [],
   "source": [
    "# Ensure Ranking is numeric create a new column for it.\n",
    "df['Ranking_numeric'] = pd.to_numeric(df['Ranking'], errors='coerce')"
   ]
  },
  {
   "cell_type": "code",
   "execution_count": 9,
   "id": "3798fc65",
   "metadata": {},
   "outputs": [],
   "source": [
    "# Drop rows where Ranking_numeric is missing \n",
    "df = df.dropna(subset=['Ranking_numeric'])"
   ]
  },
  {
   "cell_type": "code",
   "execution_count": 10,
   "id": "4cb9ee22",
   "metadata": {},
   "outputs": [],
   "source": [
    "# Define our features and target\n",
    "features = ['Ranking_numeric', 'Distance', 'Sex', 'Event']\n",
    "target = 'Time_seconds'"
   ]
  },
  {
   "cell_type": "code",
   "execution_count": 11,
   "id": "bcc51cc2",
   "metadata": {},
   "outputs": [],
   "source": [
    "X = df[features]\n",
    "y = df[target]\n"
   ]
  },
  {
   "cell_type": "code",
   "execution_count": 12,
   "id": "fdf017f3",
   "metadata": {},
   "outputs": [],
   "source": [
    " #Split the data into training and testing sets (80/20 split)\n",
    "X_train, X_test, y_train, y_test = train_test_split(X, y, test_size=0.2, random_state=42)"
   ]
  },
  {
   "cell_type": "code",
   "execution_count": 13,
   "id": "c9cf7cf7",
   "metadata": {},
   "outputs": [],
   "source": [
    "# Define which features are numeric and which are categorical\n",
    "numeric_features = ['Ranking_numeric', 'Distance']\n",
    "categorical_features = ['Sex', 'Event']"
   ]
  },
  {
   "cell_type": "code",
   "execution_count": 14,
   "id": "8a7b61a0",
   "metadata": {},
   "outputs": [],
   "source": [
    "# Create transformers for numeric and categorical data\n",
    "numeric_transformer = StandardScaler()\n",
    "categorical_transformer = OneHotEncoder(handle_unknown='ignore')\n"
   ]
  },
  {
   "cell_type": "code",
   "execution_count": 15,
   "id": "93e92aa6",
   "metadata": {},
   "outputs": [],
   "source": [
    "# Combine transformers into a ColumnTransformer\n",
    "preprocessor = ColumnTransformer(\n",
    "    transformers=[\n",
    "        ('num', numeric_transformer, numeric_features),\n",
    "        ('cat', categorical_transformer, categorical_features)\n",
    "    ])\n"
   ]
  },
  {
   "cell_type": "code",
   "execution_count": 16,
   "id": "eeecfc87",
   "metadata": {},
   "outputs": [],
   "source": [
    "# Create a pipeline that preprocesses the data then applies Linear Regression\n",
    "pipeline_lr = Pipeline(steps=[\n",
    "    ('preprocessor', preprocessor),\n",
    "    ('regressor', LinearRegression())\n",
    "])\n"
   ]
  },
  {
   "cell_type": "code",
   "execution_count": 17,
   "id": "49c7c9fb",
   "metadata": {},
   "outputs": [],
   "source": [
    "# Train the linear regression model\n",
    "pipeline_lr.fit(X_train, y_train)\n",
    "\n",
    "\n",
    "y_pred = pipeline_lr.predict(X_test)\n"
   ]
  },
  {
   "cell_type": "code",
   "execution_count": 18,
   "id": "86dce2dc",
   "metadata": {},
   "outputs": [
    {
     "name": "stdout",
     "output_type": "stream",
     "text": [
      "Linear Regression Model Performance:\n",
      "RMSE: 35.528012436410414\n",
      "R²: 0.9753975047197071\n"
     ]
    }
   ],
   "source": [
    "# Evaluate model performance using RMSE and R²\n",
    "rmse = np.sqrt(mean_squared_error(y_test, y_pred))\n",
    "r2 = r2_score(y_test, y_pred)\n",
    "\n",
    "print(\"Linear Regression Model Performance:\")\n",
    "print(\"RMSE:\", rmse)\n",
    "print(\"R²:\", r2)"
   ]
  },
  {
   "cell_type": "code",
   "execution_count": null,
   "id": "f15512aa",
   "metadata": {},
   "outputs": [],
   "source": []
  }
 ],
 "metadata": {
  "kernelspec": {
   "display_name": "Python 3 (ipykernel)",
   "language": "python",
   "name": "python3"
  },
  "language_info": {
   "codemirror_mode": {
    "name": "ipython",
    "version": 3
   },
   "file_extension": ".py",
   "mimetype": "text/x-python",
   "name": "python",
   "nbconvert_exporter": "python",
   "pygments_lexer": "ipython3",
   "version": "3.9.13"
  }
 },
 "nbformat": 4,
 "nbformat_minor": 5
}
