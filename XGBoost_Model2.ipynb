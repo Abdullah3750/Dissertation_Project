{
 "cells": [
  {
   "cell_type": "code",
   "execution_count": 1,
   "id": "1103d6aa",
   "metadata": {},
   "outputs": [],
   "source": [
    "import pandas as pd\n",
    "df_no_outliers = pd.read_csv(\"C:/Users/Zainab/Downloads/swimming_data_no_outliers.csv\")"
   ]
  },
  {
   "cell_type": "code",
   "execution_count": 2,
   "id": "472be7da",
   "metadata": {
    "scrolled": true
   },
   "outputs": [
    {
     "name": "stdout",
     "output_type": "stream",
     "text": [
      "Event Counts:\n",
      "4 x 100 m medley relay       337\n",
      "4 x 100 m freestyle relay    322\n",
      "4 x 200 m freestyle relay    248\n",
      "200 m breaststroke           133\n",
      "400 m freestyle              131\n",
      "200 m backstroke             116\n",
      "800 m freestyle              111\n",
      "100 m freestyle              107\n",
      "200 m freestyle              106\n",
      "100 m breaststroke            96\n",
      "200 m individual medley       88\n",
      "1500 m freestyle              88\n",
      "200 m butterfly               85\n",
      "400 m individual medley       82\n",
      "100 m butterfly               76\n",
      "100 m backstroke              73\n",
      "50 m freestyle                56\n",
      "50 m backstroke               24\n",
      "50 m breaststroke             20\n",
      "50 m butterfly                17\n",
      "Name: Event, dtype: int64\n",
      "Events with sufficient data: ['4 x 100 m medley relay', '4 x 100 m freestyle relay', '4 x 200 m freestyle relay', '200 m breaststroke', '400 m freestyle', '200 m backstroke', '800 m freestyle', '100 m freestyle', '200 m freestyle', '100 m breaststroke', '200 m individual medley', '1500 m freestyle', '200 m butterfly', '400 m individual medley', '100 m butterfly', '100 m backstroke', '50 m freestyle']\n"
     ]
    }
   ],
   "source": [
    "\n",
    "\n",
    "# Display counts of records per event\n",
    "event_counts = df_no_outliers['Event'].value_counts()\n",
    "print(\"Event Counts:\")\n",
    "print(event_counts)\n",
    "\n",
    "# Define a threshold for minimum records per event \n",
    "min_records = 50\n",
    "sufficient_events = event_counts[event_counts >= min_records].index.tolist()\n",
    "print(\"Events with sufficient data:\", sufficient_events)\n"
   ]
  },
  {
   "cell_type": "code",
   "execution_count": 3,
   "id": "dd3df97e",
   "metadata": {},
   "outputs": [
    {
     "name": "stdout",
     "output_type": "stream",
     "text": [
      "Event: 4 x 100 m medley relay\n",
      "  XGBoost Test RMSE: 0.01\n",
      "  XGBoost Test R²: 1.0000\n",
      "-----\n",
      "Event: 4 x 100 m freestyle relay\n",
      "  XGBoost Test RMSE: 0.91\n",
      "  XGBoost Test R²: 0.9983\n",
      "-----\n",
      "Event: 4 x 200 m freestyle relay\n",
      "  XGBoost Test RMSE: 0.00\n",
      "  XGBoost Test R²: 1.0000\n",
      "-----\n",
      "Event: 200 m breaststroke\n",
      "  XGBoost Test RMSE: 2.00\n",
      "  XGBoost Test R²: 0.9885\n",
      "-----\n",
      "Event: 400 m freestyle\n",
      "  XGBoost Test RMSE: 3.62\n",
      "  XGBoost Test R²: 0.9876\n",
      "-----\n",
      "Event: 200 m backstroke\n",
      "  XGBoost Test RMSE: 6.74\n",
      "  XGBoost Test R²: 0.8607\n",
      "-----\n",
      "Event: 800 m freestyle\n",
      "  XGBoost Test RMSE: 11.72\n",
      "  XGBoost Test R²: 0.9745\n",
      "-----\n",
      "Event: 100 m freestyle\n",
      "  XGBoost Test RMSE: 0.55\n",
      "  XGBoost Test R²: 0.9918\n",
      "-----\n",
      "Event: 200 m freestyle\n",
      "  XGBoost Test RMSE: 2.82\n",
      "  XGBoost Test R²: 0.9533\n",
      "-----\n",
      "Event: 100 m breaststroke\n",
      "  XGBoost Test RMSE: 0.33\n",
      "  XGBoost Test R²: 0.9956\n",
      "-----\n",
      "Event: 200 m individual medley\n",
      "  XGBoost Test RMSE: 1.28\n",
      "  XGBoost Test R²: 0.9826\n",
      "-----\n",
      "Event: 1500 m freestyle\n",
      "  XGBoost Test RMSE: 17.40\n",
      "  XGBoost Test R²: 0.9802\n",
      "-----\n",
      "Event: 200 m butterfly\n",
      "  XGBoost Test RMSE: 1.16\n",
      "  XGBoost Test R²: 0.9885\n",
      "-----\n",
      "Event: 400 m individual medley\n",
      "  XGBoost Test RMSE: 2.14\n",
      "  XGBoost Test R²: 0.9936\n",
      "-----\n",
      "Event: 100 m butterfly\n",
      "  XGBoost Test RMSE: 0.51\n",
      "  XGBoost Test R²: 0.9897\n",
      "-----\n",
      "Event: 100 m backstroke\n",
      "  XGBoost Test RMSE: 0.60\n",
      "  XGBoost Test R²: 0.9702\n",
      "-----\n",
      "Event: 50 m freestyle\n",
      "  XGBoost Test RMSE: 0.20\n",
      "  XGBoost Test R²: 0.9830\n",
      "-----\n"
     ]
    }
   ],
   "source": [
    "import numpy as np\n",
    "from xgboost import XGBRegressor\n",
    "from sklearn.pipeline import Pipeline\n",
    "from sklearn.compose import ColumnTransformer\n",
    "from sklearn.preprocessing import StandardScaler, OneHotEncoder\n",
    "from sklearn.model_selection import train_test_split\n",
    "from sklearn.metrics import mean_squared_error, r2_score\n",
    "\n",
    "\n",
    "event_results = {}\n",
    "\n",
    "# Loop through each event \n",
    "for event in sufficient_events:\n",
    "    # Filter dataset for the specific event\n",
    "    df_event = df_no_outliers[df_no_outliers['Event'] == event].copy()\n",
    "    \n",
    "    \n",
    "    #  use 'Ranking_numeric' and 'Sex' as predictors.\n",
    "    features = ['Ranking_numeric', 'Sex'] \n",
    "    target = 'Time_seconds'\n",
    "    \n",
    "    X = df_event[features]\n",
    "    y = df_event[target]\n",
    "    \n",
    "    # Define preprocessors: Standardize numeric features and one-hot encode categorical ones\n",
    "    numeric_features = ['Ranking_numeric']\n",
    "    categorical_features = ['Sex']\n",
    "    \n",
    "    numeric_transformer = StandardScaler()\n",
    "    categorical_transformer = OneHotEncoder(handle_unknown='ignore')\n",
    "    \n",
    "    preprocessor = ColumnTransformer(\n",
    "        transformers=[\n",
    "            ('num', numeric_transformer, numeric_features),\n",
    "            ('cat', categorical_transformer, categorical_features)\n",
    "        ]\n",
    "    )\n",
    "    \n",
    "    # Build the pipeline with XGBoost Regressor\n",
    "    pipeline_xgb = Pipeline(steps=[\n",
    "        ('preprocessor', preprocessor),\n",
    "        ('xgb', XGBRegressor(objective='reg:squarederror', random_state=42))\n",
    "    ])\n",
    "    \n",
    "    # Split the data (80/20)\n",
    "    X_train, X_test, y_train, y_test = train_test_split(X, y, test_size=0.2, random_state=42)\n",
    "    \n",
    "    # Fit the model\n",
    "    pipeline_xgb.fit(X_train, y_train)\n",
    "    y_pred = pipeline_xgb.predict(X_test)\n",
    "    \n",
    "    # Calculate evaluation metrics\n",
    "    rmse = np.sqrt(mean_squared_error(y_test, y_pred))\n",
    "    r2 = r2_score(y_test, y_pred)\n",
    "    \n",
    "    event_results[event] = {'rmse': rmse, 'r2': r2, 'model': pipeline_xgb}\n",
    "    \n",
    "    print(f\"Event: {event}\")\n",
    "    print(f\"  XGBoost Test RMSE: {rmse:.2f}\")\n",
    "    print(f\"  XGBoost Test R²: {r2:.4f}\")\n",
    "    print(\"-----\")\n"
   ]
  },
  {
   "cell_type": "code",
   "execution_count": 4,
   "id": "6ae6da8e",
   "metadata": {},
   "outputs": [
    {
     "name": "stdout",
     "output_type": "stream",
     "text": [
      "Feature Importances for 100 m freestyle:\n",
      "           Feature  Importance\n",
      "1       Sex_Female    0.775194\n",
      "0  Ranking_numeric    0.224806\n",
      "2         Sex_Male    0.000000\n"
     ]
    }
   ],
   "source": [
    "\n",
    "event_to_inspect = \"100 m freestyle\"\n",
    "if event_to_inspect in event_results:\n",
    "    model_pipeline = event_results[event_to_inspect]['model']\n",
    "    xgb_model = model_pipeline.named_steps['xgb']\n",
    "    \n",
    "   \n",
    "   \n",
    "    numeric_features = ['Ranking_numeric']\n",
    "    categorical_features = ['Sex']\n",
    "    preprocessor = model_pipeline.named_steps['preprocessor']\n",
    "    ohe = preprocessor.named_transformers_['cat']\n",
    "    ohe_feature_names = ohe.get_feature_names_out(categorical_features)\n",
    "    all_feature_names = np.concatenate([numeric_features, ohe_feature_names])\n",
    "    \n",
    "    importances = xgb_model.feature_importances_\n",
    "    importance_df = pd.DataFrame({'Feature': all_feature_names, 'Importance': importances})\n",
    "    importance_df = importance_df.sort_values(by='Importance', ascending=False)\n",
    "    print(f\"Feature Importances for {event_to_inspect}:\")\n",
    "    print(importance_df)\n",
    "else:\n",
    "    print(f\"Event '{event_to_inspect}' not found in sufficient events.\")\n"
   ]
  },
  {
   "cell_type": "code",
   "execution_count": 5,
   "id": "7eb7b366",
   "metadata": {
    "scrolled": true
   },
   "outputs": [
    {
     "name": "stdout",
     "output_type": "stream",
     "text": [
      "Feature Importances for 100 m backstroke:\n",
      "           Feature  Importance\n",
      "1       Sex_Female    0.873653\n",
      "0  Ranking_numeric    0.126347\n",
      "2         Sex_Male    0.000000\n"
     ]
    }
   ],
   "source": [
    "\n",
    "event_to_inspect = \"100 m backstroke\"\n",
    "if event_to_inspect in event_results:\n",
    "    model_pipeline = event_results[event_to_inspect]['model']\n",
    "    xgb_model = model_pipeline.named_steps['xgb']\n",
    "    \n",
    "    \n",
    "    numeric_features = ['Ranking_numeric']\n",
    "    categorical_features = ['Sex']\n",
    "    preprocessor = model_pipeline.named_steps['preprocessor']\n",
    "    ohe = preprocessor.named_transformers_['cat']\n",
    "    ohe_feature_names = ohe.get_feature_names_out(categorical_features)\n",
    "    all_feature_names = np.concatenate([numeric_features, ohe_feature_names])\n",
    "    \n",
    "    importances = xgb_model.feature_importances_\n",
    "    importance_df = pd.DataFrame({'Feature': all_feature_names, 'Importance': importances})\n",
    "    importance_df = importance_df.sort_values(by='Importance', ascending=False)\n",
    "    print(f\"Feature Importances for {event_to_inspect}:\")\n",
    "    print(importance_df)\n",
    "else:\n",
    "    print(f\"Event '{event_to_inspect}' not found in sufficient events.\")\n"
   ]
  },
  {
   "cell_type": "code",
   "execution_count": 6,
   "id": "0beb6665",
   "metadata": {},
   "outputs": [
    {
     "name": "stdout",
     "output_type": "stream",
     "text": [
      "Feature Importances for 100 m butterfly:\n",
      "           Feature  Importance\n",
      "1       Sex_Female    0.735266\n",
      "0  Ranking_numeric    0.264734\n",
      "2         Sex_Male    0.000000\n"
     ]
    }
   ],
   "source": [
    "\n",
    "event_to_inspect = \"100 m butterfly\"\n",
    "if event_to_inspect in event_results:\n",
    "    model_pipeline = event_results[event_to_inspect]['model']\n",
    "    xgb_model = model_pipeline.named_steps['xgb']\n",
    "    \n",
    "   \n",
    "    numeric_features = ['Ranking_numeric']\n",
    "    categorical_features = ['Sex']\n",
    "    preprocessor = model_pipeline.named_steps['preprocessor']\n",
    "    ohe = preprocessor.named_transformers_['cat']\n",
    "    ohe_feature_names = ohe.get_feature_names_out(categorical_features)\n",
    "    all_feature_names = np.concatenate([numeric_features, ohe_feature_names])\n",
    "    \n",
    "    importances = xgb_model.feature_importances_\n",
    "    importance_df = pd.DataFrame({'Feature': all_feature_names, 'Importance': importances})\n",
    "    importance_df = importance_df.sort_values(by='Importance', ascending=False)\n",
    "    print(f\"Feature Importances for {event_to_inspect}:\")\n",
    "    print(importance_df)\n",
    "else:\n",
    "    print(f\"Event '{event_to_inspect}' not found in sufficient events.\")\n"
   ]
  },
  {
   "cell_type": "code",
   "execution_count": 10,
   "id": "b86c576b",
   "metadata": {},
   "outputs": [
    {
     "name": "stdout",
     "output_type": "stream",
     "text": [
      "Feature Importances for 1500 m freestyle:\n",
      "           Feature  Importance\n",
      "0  Ranking_numeric    0.841388\n",
      "1       Sex_Female    0.158612\n",
      "2         Sex_Male    0.000000\n"
     ]
    }
   ],
   "source": [
    "\n",
    "event_to_inspect = \"1500 m freestyle\"\n",
    "if event_to_inspect in event_results:\n",
    "    model_pipeline = event_results[event_to_inspect]['model']\n",
    "    xgb_model = model_pipeline.named_steps['xgb']\n",
    "    \n",
    "   \n",
    "    numeric_features = ['Ranking_numeric']\n",
    "    categorical_features = ['Sex']\n",
    "    preprocessor = model_pipeline.named_steps['preprocessor']\n",
    "    ohe = preprocessor.named_transformers_['cat']\n",
    "    ohe_feature_names = ohe.get_feature_names_out(categorical_features)\n",
    "    all_feature_names = np.concatenate([numeric_features, ohe_feature_names])\n",
    "    \n",
    "    importances = xgb_model.feature_importances_\n",
    "    importance_df = pd.DataFrame({'Feature': all_feature_names, 'Importance': importances})\n",
    "    importance_df = importance_df.sort_values(by='Importance', ascending=False)\n",
    "    print(f\"Feature Importances for {event_to_inspect}:\")\n",
    "    print(importance_df)\n",
    "else:\n",
    "    print(f\"Event '{event_to_inspect}' not found in sufficient events.\")\n"
   ]
  },
  {
   "cell_type": "code",
   "execution_count": 15,
   "id": "ea67d843",
   "metadata": {},
   "outputs": [
    {
     "name": "stdout",
     "output_type": "stream",
     "text": [
      "Feature Importances for 800 m freestyle:\n",
      "           Feature  Importance\n",
      "0  Ranking_numeric    0.892667\n",
      "1       Sex_Female    0.107333\n",
      "2         Sex_Male    0.000000\n"
     ]
    }
   ],
   "source": [
    "\n",
    "event_to_inspect = \"800 m freestyle\"\n",
    "if event_to_inspect in event_results:\n",
    "    model_pipeline = event_results[event_to_inspect]['model']\n",
    "    xgb_model = model_pipeline.named_steps['xgb']\n",
    "    \n",
    "   \n",
    "    numeric_features = ['Ranking_numeric']\n",
    "    categorical_features = ['Sex']\n",
    "    preprocessor = model_pipeline.named_steps['preprocessor']\n",
    "    ohe = preprocessor.named_transformers_['cat']\n",
    "    ohe_feature_names = ohe.get_feature_names_out(categorical_features)\n",
    "    all_feature_names = np.concatenate([numeric_features, ohe_feature_names])\n",
    "    \n",
    "    importances = xgb_model.feature_importances_\n",
    "    importance_df = pd.DataFrame({'Feature': all_feature_names, 'Importance': importances})\n",
    "    importance_df = importance_df.sort_values(by='Importance', ascending=False)\n",
    "    print(f\"Feature Importances for {event_to_inspect}:\")\n",
    "    print(importance_df)\n",
    "else:\n",
    "    print(f\"Event '{event_to_inspect}' not found in sufficient events.\")\n"
   ]
  },
  {
   "cell_type": "code",
   "execution_count": 20,
   "id": "a98fe76a",
   "metadata": {},
   "outputs": [
    {
     "name": "stdout",
     "output_type": "stream",
     "text": [
      "Feature Importances for 4 x 100 m freestyle relay:\n",
      "           Feature  Importance\n",
      "1       Sex_Female    0.675725\n",
      "0  Ranking_numeric    0.324275\n",
      "2         Sex_Male    0.000000\n"
     ]
    }
   ],
   "source": [
    "\n",
    "\n",
    "event_to_inspect = \"4 x 100 m freestyle relay\"\n",
    "if event_to_inspect in event_results:\n",
    "    model_pipeline = event_results[event_to_inspect]['model']\n",
    "    xgb_model = model_pipeline.named_steps['xgb']\n",
    "    \n",
    "\n",
    "    numeric_features = ['Ranking_numeric']\n",
    "    categorical_features = ['Sex']\n",
    "    preprocessor = model_pipeline.named_steps['preprocessor']\n",
    "    ohe = preprocessor.named_transformers_['cat']\n",
    "    ohe_feature_names = ohe.get_feature_names_out(categorical_features)\n",
    "    all_feature_names = np.concatenate([numeric_features, ohe_feature_names])\n",
    "    \n",
    "    importances = xgb_model.feature_importances_\n",
    "    importance_df = pd.DataFrame({'Feature': all_feature_names, 'Importance': importances})\n",
    "    importance_df = importance_df.sort_values(by='Importance', ascending=False)\n",
    "    print(f\"Feature Importances for {event_to_inspect}:\")\n",
    "    print(importance_df)\n",
    "else:\n",
    "    print(f\"Event '{event_to_inspect}' not found in sufficient events.\")\n"
   ]
  },
  {
   "cell_type": "code",
   "execution_count": 22,
   "id": "3e3d20ea",
   "metadata": {},
   "outputs": [
    {
     "name": "stdout",
     "output_type": "stream",
     "text": [
      "Results saved to: C:\\Users\\Zainab\\Downloads\\1500m_freestyle_feature_importances.csv\n"
     ]
    }
   ],
   "source": [
    "import os\n",
    "\n",
    "\n",
    "importance_df = pd.DataFrame({\n",
    "    'Feature': ['Ranking_numeric', 'Sex_Female', 'Sex_Male'],\n",
    "    'Importance': [0.841388, 0.158612, 0.000000]\n",
    "})\n",
    "\n",
    "\n",
    "downloads_path = os.path.join(os.path.expanduser(\"~\"), \"Downloads\", \"1500m_freestyle_feature_importances.csv\")\n",
    "\n",
    "\n",
    "importance_df.to_csv(downloads_path, index=False)\n",
    "\n",
    "print(\"Results saved to:\", downloads_path)\n"
   ]
  },
  {
   "cell_type": "code",
   "execution_count": 23,
   "id": "d40f318b",
   "metadata": {},
   "outputs": [
    {
     "name": "stdout",
     "output_type": "stream",
     "text": [
      "Event results saved to: C:\\Users\\Zainab\\Downloads\\xgb_event_results.csv\n",
      "Feature importances saved to: C:\\Users\\Zainab\\Downloads\\xgb_feature_importances_100m_freestyle.csv\n"
     ]
    }
   ],
   "source": [
    "import os\n",
    "import pandas as pd\n",
    "\n",
    "# summary for XGBoost model results:\n",
    "data = {\n",
    "    'Event': [\n",
    "        '4 x 100 m medley relay', '4 x 100 m freestyle relay', '4 x 200 m freestyle relay',\n",
    "        '200 m breaststroke', '400 m freestyle', '200 m backstroke', '800 m freestyle',\n",
    "        '100 m freestyle', '200 m freestyle', '100 m breaststroke', '200 m individual medley',\n",
    "        '1500 m freestyle', '200 m butterfly', '400 m individual medley', '100 m butterfly',\n",
    "        '100 m backstroke', '50 m freestyle'\n",
    "    ],\n",
    "    'Test_RMSE': [\n",
    "        0.01, 0.91, 0.00, 2.00, 3.62, 6.74, 11.72, 0.55, 2.82, 0.33, 1.28, 17.40, 1.16, 2.14, 0.51, 0.60, 0.20\n",
    "    ],\n",
    "    'Test_R2': [\n",
    "        1.0000, 0.9983, 1.0000, 0.9885, 0.9876, 0.8607, 0.9745, 0.9918, 0.9533, 0.9956,\n",
    "        0.9826, 0.9802, 0.9885, 0.9936, 0.9897, 0.9702, 0.9830\n",
    "    ]\n",
    "}\n",
    "\n",
    "results_df = pd.DataFrame(data)\n",
    "\n",
    "\n",
    "importance_data = {\n",
    "    'Feature': ['Sex_Female', 'Ranking_numeric', 'Sex_Male'],\n",
    "    'Importance': [0.775194, 0.224806, 0.0]\n",
    "}\n",
    "importance_df = pd.DataFrame(importance_data)\n",
    "\n",
    "\n",
    "downloads_path = os.path.join(os.path.expanduser(\"~\"), \"Downloads\")\n",
    "results_file = os.path.join(downloads_path, \"xgb_event_results.csv\")\n",
    "results_df.to_csv(results_file, index=False)\n",
    "print(\"Event results saved to:\", results_file)\n",
    "\n",
    "\n",
    "importance_file = os.path.join(downloads_path, \"xgb_feature_importances_100m_freestyle.csv\")\n",
    "importance_df.to_csv(importance_file, index=False)\n",
    "print(\"Feature importances saved to:\", importance_file)\n"
   ]
  },
  {
   "cell_type": "code",
   "execution_count": null,
   "id": "d03bfaa4",
   "metadata": {},
   "outputs": [],
   "source": []
  }
 ],
 "metadata": {
  "kernelspec": {
   "display_name": "Python 3 (ipykernel)",
   "language": "python",
   "name": "python3"
  },
  "language_info": {
   "codemirror_mode": {
    "name": "ipython",
    "version": 3
   },
   "file_extension": ".py",
   "mimetype": "text/x-python",
   "name": "python",
   "nbconvert_exporter": "python",
   "pygments_lexer": "ipython3",
   "version": "3.9.13"
  }
 },
 "nbformat": 4,
 "nbformat_minor": 5
}
